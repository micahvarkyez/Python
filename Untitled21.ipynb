{
  "nbformat": 4,
  "nbformat_minor": 0,
  "metadata": {
    "colab": {
      "provenance": []
    },
    "kernelspec": {
      "name": "python3",
      "display_name": "Python 3"
    },
    "language_info": {
      "name": "python"
    }
  },
  "cells": [
    {
      "cell_type": "code",
      "execution_count": null,
      "metadata": {
        "id": "EuBOVrbqM1OW"
      },
      "outputs": [],
      "source": [
        "def anju():\n",
        "  print(\"india is my country\")"
      ]
    },
    {
      "cell_type": "code",
      "source": [
        "anju()"
      ],
      "metadata": {
        "colab": {
          "base_uri": "https://localhost:8080/"
        },
        "id": "cZ7D9LibPvi2",
        "outputId": "cbf74500-d6a7-4d61-891d-17b251aed38b"
      },
      "execution_count": null,
      "outputs": [
        {
          "output_type": "stream",
          "name": "stdout",
          "text": [
            "india is my country\n"
          ]
        }
      ]
    },
    {
      "cell_type": "code",
      "source": [
        "def anju(x):\n",
        "  print(\" your roll numder is\",x)"
      ],
      "metadata": {
        "id": "j5WbbVsXP4ph"
      },
      "execution_count": null,
      "outputs": []
    },
    {
      "cell_type": "code",
      "source": [
        "x=int(input(\"enter ur roll no\"))\n",
        "anju(x)"
      ],
      "metadata": {
        "colab": {
          "base_uri": "https://localhost:8080/"
        },
        "id": "qqHVdYu1T85V",
        "outputId": "2a5436a6-d592-4181-aad3-552024b5812e"
      },
      "execution_count": null,
      "outputs": [
        {
          "output_type": "stream",
          "name": "stdout",
          "text": [
            "enter ur roll no78\n",
            " your roll numder is 78\n"
          ]
        }
      ]
    },
    {
      "cell_type": "code",
      "source": [
        "\n",
        "def anju(x,y,z,a):\n",
        "  print(\"my information is:\",x,y,z,a)\n",
        " "
      ],
      "metadata": {
        "id": "Oj4etWC2Q2kT"
      },
      "execution_count": null,
      "outputs": []
    },
    {
      "cell_type": "code",
      "source": [
        "x=input(\"enter ur name\")\n",
        "y=int(input(\"enter ur roll number\"))\n",
        "z=input(\"enter ur email id\")\n",
        "a=input(\"enter ur address\")\n"
      ],
      "metadata": {
        "colab": {
          "base_uri": "https://localhost:8080/"
        },
        "id": "EbUiuqCQT2RH",
        "outputId": "474f88c2-a574-45b8-c531-a7ba8daa9e51"
      },
      "execution_count": null,
      "outputs": [
        {
          "name": "stdout",
          "output_type": "stream",
          "text": [
            "enter ur nameanju\n",
            "enter ur roll number23\n",
            "enter ur email idanjumariaphilip@gmail.com\n",
            "enter ur addresskottayam\n"
          ]
        }
      ]
    },
    {
      "cell_type": "code",
      "source": [
        "anju(x,y,z,a)"
      ],
      "metadata": {
        "colab": {
          "base_uri": "https://localhost:8080/"
        },
        "id": "nLaLzqLKU3rf",
        "outputId": "3231c6f5-ed01-4017-dcdd-75abcbbc1223"
      },
      "execution_count": null,
      "outputs": [
        {
          "output_type": "stream",
          "name": "stdout",
          "text": [
            "my information is: anju 23 anjumariaphilip@gmail.com kottayam\n"
          ]
        }
      ]
    },
    {
      "cell_type": "code",
      "source": [
        "def anju(x,y,z):\n",
        "  print(\"my name is anju maria philip:\",x,y,z)"
      ],
      "metadata": {
        "id": "GFj_yz1YWhh8"
      },
      "execution_count": null,
      "outputs": []
    },
    {
      "cell_type": "code",
      "source": [
        "x=input(\"enter ur first name\")\n",
        "y=input(\"enter ur second name\")\n",
        "z=input(\"enter ur third name\")"
      ],
      "metadata": {
        "colab": {
          "base_uri": "https://localhost:8080/"
        },
        "id": "PRFtMdUlW2sW",
        "outputId": "97d3cb28-26dd-423a-9e43-2f82c67bb2d6"
      },
      "execution_count": null,
      "outputs": [
        {
          "name": "stdout",
          "output_type": "stream",
          "text": [
            "enter ur first nameanju\n",
            "enter ur second namemaria\n",
            "enter ur third namephilip\n"
          ]
        }
      ]
    },
    {
      "cell_type": "code",
      "source": [
        "anju(x,y,z)"
      ],
      "metadata": {
        "colab": {
          "base_uri": "https://localhost:8080/"
        },
        "id": "-9iCjQrVXh8f",
        "outputId": "521c95b2-b067-40b8-c202-2d38271714a9"
      },
      "execution_count": null,
      "outputs": [
        {
          "output_type": "stream",
          "name": "stdout",
          "text": [
            "my name is anju maria philip: anju maria philip\n"
          ]
        }
      ]
    },
    {
      "cell_type": "code",
      "source": [
        "def first(x):\n",
        "  print(\"enter ur first name\",x[0])\n"
      ],
      "metadata": {
        "id": "a7Z2_e1pXlLc"
      },
      "execution_count": null,
      "outputs": []
    },
    {
      "cell_type": "code",
      "source": [
        "def second(x):\n",
        "  print(\"enter ur second name\",x[1])\n"
      ],
      "metadata": {
        "id": "NBM9-rEBaLlc"
      },
      "execution_count": null,
      "outputs": []
    },
    {
      "cell_type": "code",
      "source": [
        "def third(x):\n",
        "  print(\"enter ur third name\",x[2])\n"
      ],
      "metadata": {
        "id": "pyAB54ieaUYr"
      },
      "execution_count": null,
      "outputs": []
    },
    {
      "cell_type": "code",
      "source": [
        "a=input(\"enter ur name\")\n",
        "x=a.split(\" \")\n",
        "first(x)\n",
        "second(x)\n",
        "third(x)"
      ],
      "metadata": {
        "colab": {
          "base_uri": "https://localhost:8080/"
        },
        "id": "lHxzSB7Dale8",
        "outputId": "142a3728-e7c4-43c8-8c5d-5786e4ede1fc"
      },
      "execution_count": null,
      "outputs": [
        {
          "output_type": "stream",
          "name": "stdout",
          "text": [
            "enter ur nameanju maria philip\n",
            "enter ur first name anju\n",
            "enter ur second name maria\n",
            "enter ur third name philip\n"
          ]
        }
      ]
    },
    {
      "cell_type": "code",
      "source": [
        "x=input(\"enter ur full name\")\n",
        "def firstname(x):\n",
        "  print(x[0:4])\n",
        "def secondname(x):\n",
        "  print(x[4:10])  "
      ],
      "metadata": {
        "colab": {
          "base_uri": "https://localhost:8080/"
        },
        "id": "AeGh_iTbb6cf",
        "outputId": "003644ab-f4ee-4052-a664-abb911a650a6"
      },
      "execution_count": null,
      "outputs": [
        {
          "name": "stdout",
          "output_type": "stream",
          "text": [
            "enter ur full nameanjumaria\n"
          ]
        }
      ]
    },
    {
      "cell_type": "code",
      "source": [
        "firstname(x)\n",
        "secondname(x)"
      ],
      "metadata": {
        "colab": {
          "base_uri": "https://localhost:8080/"
        },
        "id": "DjO6Jsthda68",
        "outputId": "9c443332-c14f-4253-b66d-80c2a0e58986"
      },
      "execution_count": null,
      "outputs": [
        {
          "output_type": "stream",
          "name": "stdout",
          "text": [
            "anju\n",
            "maria\n"
          ]
        }
      ]
    },
    {
      "cell_type": "code",
      "source": [
        "n=int(input(\"enter a number\"))\n",
        "z=n//10\n",
        "y=n%10\n",
        "x= (y*10)+z\n",
        "print(x)"
      ],
      "metadata": {
        "colab": {
          "base_uri": "https://localhost:8080/"
        },
        "id": "fhS9sdiefgSR",
        "outputId": "ea874d38-4712-43a7-e3e3-7d5e24f1f5a2"
      },
      "execution_count": null,
      "outputs": [
        {
          "output_type": "stream",
          "name": "stdout",
          "text": [
            "enter a number45\n",
            "54\n"
          ]
        }
      ]
    }
  ]
}