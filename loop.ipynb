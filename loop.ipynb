{
  "nbformat": 4,
  "nbformat_minor": 0,
  "metadata": {
    "colab": {
      "provenance": []
    },
    "kernelspec": {
      "name": "python3",
      "display_name": "Python 3"
    },
    "language_info": {
      "name": "python"
    }
  },
  "cells": [
    {
      "cell_type": "code",
      "execution_count": 46,
      "metadata": {
        "colab": {
          "base_uri": "https://localhost:8080/"
        },
        "id": "ZbynjmrqWHIL",
        "outputId": "b68f161c-0fd1-469f-b38f-95265ea5118d"
      },
      "outputs": [
        {
          "output_type": "stream",
          "name": "stdout",
          "text": [
            "0\n",
            "1\n",
            "2\n",
            "3\n",
            "4\n",
            "5\n",
            "6\n",
            "7\n",
            "8\n",
            "9\n",
            "10\n"
          ]
        }
      ],
      "source": [
        "x=0\n",
        "while x<=10:\n",
        "  print(x)\n",
        "  x=x+1"
      ]
    },
    {
      "cell_type": "code",
      "source": [
        "x=10\n",
        "while x>=0:\n",
        "  print(x)\n",
        "  x-=1"
      ],
      "metadata": {
        "colab": {
          "base_uri": "https://localhost:8080/"
        },
        "id": "p-4qsg8aXBUd",
        "outputId": "959f67cc-3a48-4961-d870-3266f25a67d0"
      },
      "execution_count": 47,
      "outputs": [
        {
          "output_type": "stream",
          "name": "stdout",
          "text": [
            "10\n",
            "9\n",
            "8\n",
            "7\n",
            "6\n",
            "5\n",
            "4\n",
            "3\n",
            "2\n",
            "1\n",
            "0\n"
          ]
        }
      ]
    },
    {
      "cell_type": "code",
      "source": [
        "sum=0\n",
        "x=1\n",
        "while x<11:\n",
        "  sum=(sum+x)\n",
        "  x+=1\n",
        "print(sum)"
      ],
      "metadata": {
        "colab": {
          "base_uri": "https://localhost:8080/"
        },
        "id": "codb0tqmYBpM",
        "outputId": "46253191-7077-4da8-90a1-91f35383931b"
      },
      "execution_count": 48,
      "outputs": [
        {
          "output_type": "stream",
          "name": "stdout",
          "text": [
            "55\n"
          ]
        }
      ]
    },
    {
      "cell_type": "code",
      "source": [
        "x=5\n",
        "fac=1\n",
        "while x>=1:\n",
        "  fac=fac*x\n",
        "  x-=1\n",
        "print(fac)  "
      ],
      "metadata": {
        "colab": {
          "base_uri": "https://localhost:8080/"
        },
        "id": "wF6Kbg7SauFi",
        "outputId": "6bbe10bd-2c35-4947-843b-80b70c137b4e"
      },
      "execution_count": 49,
      "outputs": [
        {
          "output_type": "stream",
          "name": "stdout",
          "text": [
            "120\n"
          ]
        }
      ]
    },
    {
      "cell_type": "code",
      "source": [
        "x=0\n",
        "while x<10:\n",
        "  x=x+1\n",
        "  if x==5:\n",
        "    break;\n",
        "  print (x)"
      ],
      "metadata": {
        "colab": {
          "base_uri": "https://localhost:8080/"
        },
        "id": "9_jirNIUgmjm",
        "outputId": "fff6a690-220e-4e3d-9370-44b8e69a429f"
      },
      "execution_count": 50,
      "outputs": [
        {
          "output_type": "stream",
          "name": "stdout",
          "text": [
            "1\n",
            "2\n",
            "3\n",
            "4\n"
          ]
        }
      ]
    },
    {
      "cell_type": "code",
      "source": [
        "x=0\n",
        "while x<10:\n",
        "  x=x+1\n",
        "  if x==5:\n",
        "    continue;\n",
        "  print(x)"
      ],
      "metadata": {
        "colab": {
          "base_uri": "https://localhost:8080/"
        },
        "id": "lQFDCBhUhaqe",
        "outputId": "c77fb87c-6f4f-4883-d31d-6e75063a9a99"
      },
      "execution_count": 51,
      "outputs": [
        {
          "output_type": "stream",
          "name": "stdout",
          "text": [
            "1\n",
            "2\n",
            "3\n",
            "4\n",
            "6\n",
            "7\n",
            "8\n",
            "9\n",
            "10\n"
          ]
        }
      ]
    },
    {
      "cell_type": "code",
      "source": [
        "for x in range(100):\n",
        "  sum=sum+x\n",
        "print(sum)  "
      ],
      "metadata": {
        "colab": {
          "base_uri": "https://localhost:8080/"
        },
        "id": "gyn1gvWSlY3L",
        "outputId": "562cf42f-af04-43f2-c1ca-c430fd8cc8c2"
      },
      "execution_count": 52,
      "outputs": [
        {
          "output_type": "stream",
          "name": "stdout",
          "text": [
            "5005\n"
          ]
        }
      ]
    },
    {
      "cell_type": "code",
      "source": [
        "x=int(input(\"enter any value\"))\n",
        "fac=1\n",
        "while x>0:\n",
        "  fac=fac*x\n",
        "  x-=1\n",
        "print(fac)  "
      ],
      "metadata": {
        "colab": {
          "base_uri": "https://localhost:8080/"
        },
        "id": "w6P2trxZliHS",
        "outputId": "dc536e9f-d183-4478-9c24-80084081d1bf"
      },
      "execution_count": 55,
      "outputs": [
        {
          "output_type": "stream",
          "name": "stdout",
          "text": [
            "enter any value5\n",
            "120\n"
          ]
        }
      ]
    },
    {
      "cell_type": "code",
      "source": [
        "x=int(input(\"enter any value\"))\n",
        "fac=1\n",
        "for x in range(100):\n",
        "  fac=fac*x\n",
        "print(fac)  "
      ],
      "metadata": {
        "colab": {
          "base_uri": "https://localhost:8080/"
        },
        "id": "F4xw1dErmp_Q",
        "outputId": "b1ffbaeb-c9db-45a6-cf6f-45decf98414b"
      },
      "execution_count": 87,
      "outputs": [
        {
          "output_type": "stream",
          "name": "stdout",
          "text": [
            "enter any value5\n",
            "0\n"
          ]
        }
      ]
    },
    {
      "cell_type": "code",
      "source": [
        "\n",
        "for x in range(100):\n",
        "  if x==5:\n",
        "    break;\n",
        "print(x) "
      ],
      "metadata": {
        "colab": {
          "base_uri": "https://localhost:8080/"
        },
        "id": "s4JrPBwdo5Kz",
        "outputId": "c83b2cf5-55c3-4a4c-855a-31ee97e136b2"
      },
      "execution_count": 88,
      "outputs": [
        {
          "output_type": "stream",
          "name": "stdout",
          "text": [
            "5\n"
          ]
        }
      ]
    },
    {
      "cell_type": "code",
      "source": [
        "for x in range(100):\n",
        "  if x==5:\n",
        "    continue;\n",
        "print(x)   "
      ],
      "metadata": {
        "colab": {
          "base_uri": "https://localhost:8080/"
        },
        "id": "5w_DgRL-pGA-",
        "outputId": "6bf04ca6-3d57-4c89-dfa0-c7fe65a47473"
      },
      "execution_count": 75,
      "outputs": [
        {
          "output_type": "stream",
          "name": "stdout",
          "text": [
            "99\n"
          ]
        }
      ]
    },
    {
      "cell_type": "code",
      "source": [
        "x=\"Micah Ashadeep\"\n",
        "for a in x:\n",
        "  if(a==\" \"):\n",
        "   break;\n",
        "  print(a) "
      ],
      "metadata": {
        "colab": {
          "base_uri": "https://localhost:8080/"
        },
        "id": "vu1k8yFUpuPR",
        "outputId": "df35c258-24c1-4b42-dde9-fa60159d6917"
      },
      "execution_count": 83,
      "outputs": [
        {
          "output_type": "stream",
          "name": "stdout",
          "text": [
            "M\n",
            "i\n",
            "c\n",
            "a\n",
            "h\n"
          ]
        }
      ]
    },
    {
      "cell_type": "code",
      "source": [
        "x=\"Micah Ashadeep\"\n",
        "for a in x:\n",
        "  if(a==\"i\"):\n",
        "   continue;\n",
        "  print(a) "
      ],
      "metadata": {
        "colab": {
          "base_uri": "https://localhost:8080/"
        },
        "id": "y15PANPMqbVJ",
        "outputId": "96b0e883-94fc-47d4-d710-d5520629aa24"
      },
      "execution_count": 84,
      "outputs": [
        {
          "output_type": "stream",
          "name": "stdout",
          "text": [
            "M\n",
            "c\n",
            "a\n",
            "h\n",
            " \n",
            "A\n",
            "s\n",
            "h\n",
            "a\n",
            "d\n",
            "e\n",
            "e\n",
            "p\n"
          ]
        }
      ]
    }
  ]
}