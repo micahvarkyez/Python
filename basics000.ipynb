{
  "nbformat": 4,
  "nbformat_minor": 0,
  "metadata": {
    "colab": {
      "provenance": []
    },
    "kernelspec": {
      "name": "python3",
      "display_name": "Python 3"
    },
    "language_info": {
      "name": "python"
    }
  },
  "cells": [
    {
      "cell_type": "code",
      "execution_count": 3,
      "metadata": {
        "colab": {
          "base_uri": "https://localhost:8080/"
        },
        "id": "nxR1B1uNzdIC",
        "outputId": "ae726d05-2e5d-4ed5-8078-fbbb99ec0736"
      },
      "outputs": [
        {
          "output_type": "stream",
          "name": "stdout",
          "text": [
            "\"Micah\" Ashadeep\n"
          ]
        }
      ],
      "source": [
        "print(\"\\\"Micah\\\" Ashadeep\")"
      ]
    },
    {
      "cell_type": "code",
      "source": [
        "print(\"\\\"\")"
      ],
      "metadata": {
        "colab": {
          "base_uri": "https://localhost:8080/"
        },
        "id": "lxp1TeMyzzA7",
        "outputId": "443cca94-9ffd-40f9-c935-ce67a0094e6b"
      },
      "execution_count": 5,
      "outputs": [
        {
          "output_type": "stream",
          "name": "stdout",
          "text": [
            "\"\n"
          ]
        }
      ]
    },
    {
      "cell_type": "code",
      "source": [
        "print(\"he\\'s a doctor\")"
      ],
      "metadata": {
        "colab": {
          "base_uri": "https://localhost:8080/"
        },
        "id": "7hy0yEAM0IIw",
        "outputId": "19a5b642-e048-4c2f-ffe8-d9170505bc79"
      },
      "execution_count": 6,
      "outputs": [
        {
          "output_type": "stream",
          "name": "stdout",
          "text": [
            "he's a doctor\n"
          ]
        }
      ]
    },
    {
      "cell_type": "code",
      "source": [
        "print(\"Micah\\nAshadeep\")"
      ],
      "metadata": {
        "colab": {
          "base_uri": "https://localhost:8080/"
        },
        "id": "yt6PeKB60doN",
        "outputId": "d7eec414-e7d8-4809-f22e-08767d5b9284"
      },
      "execution_count": 8,
      "outputs": [
        {
          "output_type": "stream",
          "name": "stdout",
          "text": [
            "Micah\n",
            "Ashadeep\n"
          ]
        }
      ]
    },
    {
      "cell_type": "code",
      "source": [
        "def anju():  \n",
        "  x=[\"John\",\"Mary\",\"David\",\"Adam\"]\n",
        "  y=int(input(\"enter index no.\"))\n",
        "  z=input(\"Enter the name\")\n",
        "  x.insert(y,z)\n",
        "  print(x)"
      ],
      "metadata": {
        "id": "qBgScxU610do"
      },
      "execution_count": 24,
      "outputs": []
    },
    {
      "cell_type": "code",
      "source": [
        "anju()"
      ],
      "metadata": {
        "colab": {
          "base_uri": "https://localhost:8080/"
        },
        "id": "gp9mYV1w4Hjf",
        "outputId": "5e1ec08b-40e4-4e96-e156-2203eb60cd46"
      },
      "execution_count": 23,
      "outputs": [
        {
          "output_type": "stream",
          "name": "stdout",
          "text": [
            "enter index no.3\n",
            "Enter the nameanju\n",
            "['John', 'Mary', 'David', 'anju', 'Adam']\n"
          ]
        }
      ]
    },
    {
      "cell_type": "code",
      "source": [
        "anju()"
      ],
      "metadata": {
        "colab": {
          "base_uri": "https://localhost:8080/"
        },
        "id": "UJ_Yk-OZ-MVU",
        "outputId": "c0bc8a02-80b2-4dcd-9cc4-4b2b6c88deca"
      },
      "execution_count": 21,
      "outputs": [
        {
          "output_type": "stream",
          "name": "stdout",
          "text": [
            "enter index no.4\n",
            "Enter the name5\n",
            "['John', 'Mary', 'David', 'Adam', '5']\n"
          ]
        }
      ]
    },
    {
      "cell_type": "code",
      "source": [
        "def anjuu():\n",
        "  print(\"enter two numbers\")\n",
        "  x=int(input())  \n",
        "  y=int(input())\n",
        "  print(\"sum=\",x+y)\n",
        "  print(x-y)\n",
        "  print(x*y)\n",
        "  print(x/y)"
      ],
      "metadata": {
        "id": "YeYEQl5i-c7p"
      },
      "execution_count": 34,
      "outputs": []
    },
    {
      "cell_type": "code",
      "source": [
        "anjuu()"
      ],
      "metadata": {
        "colab": {
          "base_uri": "https://localhost:8080/"
        },
        "id": "_YNUjrBkAAiB",
        "outputId": "06424d54-d343-4329-e755-6133ed902655"
      },
      "execution_count": 35,
      "outputs": [
        {
          "output_type": "stream",
          "name": "stdout",
          "text": [
            "enter two numbers\n",
            "5\n",
            "6\n",
            "sum= 11\n",
            "-1\n",
            "30\n",
            "0.8333333333333334\n"
          ]
        }
      ]
    },
    {
      "cell_type": "code",
      "source": [
        "def anjuuu(a,b):\n",
        "  print(a+b)\n",
        "  print(a*b)\n",
        "  print(a-b)\n",
        "  print(a/b)\n",
        "  "
      ],
      "metadata": {
        "id": "DHeBM5-JAQPC"
      },
      "execution_count": 41,
      "outputs": []
    },
    {
      "cell_type": "code",
      "source": [
        "print(\"enter two numbers\")\n",
        "x=int(input())  \n",
        "y=int(input())\n",
        "anjuuu(x,y)"
      ],
      "metadata": {
        "colab": {
          "base_uri": "https://localhost:8080/"
        },
        "id": "qZNna3g1EUS8",
        "outputId": "aa636cf5-3d95-4fdf-a216-4d84388faa5b"
      },
      "execution_count": 42,
      "outputs": [
        {
          "output_type": "stream",
          "name": "stdout",
          "text": [
            "enter two numbers\n",
            "5\n",
            "10\n",
            "15\n",
            "50\n",
            "-5\n",
            "0.5\n"
          ]
        }
      ]
    },
    {
      "cell_type": "code",
      "source": [],
      "metadata": {
        "id": "TAM-1QueEoNO"
      },
      "execution_count": null,
      "outputs": []
    }
  ]
}