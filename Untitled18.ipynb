{
  "nbformat": 4,
  "nbformat_minor": 0,
  "metadata": {
    "colab": {
      "provenance": [],
      "toc_visible": true
    },
    "kernelspec": {
      "name": "python3",
      "display_name": "Python 3"
    },
    "language_info": {
      "name": "python"
    }
  },
  "cells": [
    {
      "cell_type": "code",
      "execution_count": null,
      "metadata": {
        "colab": {
          "base_uri": "https://localhost:8080/"
        },
        "id": "nNvcdkX3ELRU",
        "outputId": "4e0b5956-af5a-439a-c3ac-eeb5993169dc"
      },
      "outputs": [
        {
          "name": "stdout",
          "output_type": "stream",
          "text": [
            "enter the number50\n"
          ]
        }
      ],
      "source": [
        "x=int(input(\"enter the number\"))"
      ]
    },
    {
      "cell_type": "code",
      "source": [
        "if x>50:\n",
        "  print(\"you are pass\")\n",
        "if x<50:\n",
        "   print(\"you are failed\") \n",
        "if x==50:\n",
        "     print(\"just pass\")"
      ],
      "metadata": {
        "colab": {
          "base_uri": "https://localhost:8080/"
        },
        "id": "_rasmwpDE-Dz",
        "outputId": "7e06bce0-997c-49e0-86b6-6c0ac1998029"
      },
      "execution_count": null,
      "outputs": [
        {
          "output_type": "stream",
          "name": "stdout",
          "text": [
            "just pass\n"
          ]
        }
      ]
    },
    {
      "cell_type": "code",
      "source": [
        "if x<=250000:\n",
        "   tax=0\n",
        "   print(tax)\n",
        "if x<=500000:\n",
        "   tax=x*5/100\n",
        "   print(tax)"
      ],
      "metadata": {
        "colab": {
          "base_uri": "https://localhost:8080/"
        },
        "id": "CzXbygyvODIz",
        "outputId": "3c9288bf-1733-40a6-b4fb-1239764a7000"
      },
      "execution_count": null,
      "outputs": [
        {
          "output_type": "stream",
          "name": "stdout",
          "text": [
            "0\n",
            "10000.0\n"
          ]
        }
      ]
    },
    {
      "cell_type": "code",
      "source": [
        "x=int(input(\"enter the salary\"))"
      ],
      "metadata": {
        "colab": {
          "base_uri": "https://localhost:8080/"
        },
        "id": "gLc6V4JgQ6Ug",
        "outputId": "44d89c8f-3dae-4c80-b917-662d4ed1d931"
      },
      "execution_count": null,
      "outputs": [
        {
          "name": "stdout",
          "output_type": "stream",
          "text": [
            "enter the salary600000\n"
          ]
        }
      ]
    },
    {
      "cell_type": "code",
      "source": [
        "if x>250000 and x<500000:\n",
        "  tax=(x-250000)*10/100\n",
        "  print(tax)\n",
        "if x>500000:\n",
        "  tax=((x-250000)*10/100)+((x-500000)*20/100)\n",
        "  print(tax)\n",
        "if x<250000:\n",
        "  print(\"you are not taxable\")"
      ],
      "metadata": {
        "colab": {
          "base_uri": "https://localhost:8080/"
        },
        "id": "631H-c-LQs9R",
        "outputId": "a8fdb4a3-71d5-466f-df29-c3cda371cdd1"
      },
      "execution_count": null,
      "outputs": [
        {
          "output_type": "stream",
          "name": "stdout",
          "text": [
            "55000.0\n"
          ]
        }
      ]
    },
    {
      "cell_type": "code",
      "source": [
        "y=int(input(\"enter the salary\"))#x+d"
      ],
      "metadata": {
        "colab": {
          "base_uri": "https://localhost:8080/"
        },
        "id": "QW44AAPxQ5O0",
        "outputId": "8e294400-f0da-44ac-fa5f-353fb03aad02"
      },
      "execution_count": null,
      "outputs": [
        {
          "name": "stdout",
          "output_type": "stream",
          "text": [
            "enter the salary1750000\n"
          ]
        }
      ]
    },
    {
      "cell_type": "code",
      "source": [
        "if y<=250000:\n",
        "   print(\"tax is zero\")\n",
        "if y>=250000 and y<=500000:\n",
        "   tax=((y-250000)*5/100)\n",
        "   print(tax)\n",
        "if y>=500000 and y<=750000:\n",
        "   tax=((y-250000)*5/100)+((y-500000)*10/100)\n",
        "   print(tax)\n",
        "if y>=750000 and y<=1000000:\n",
        "   tax=((y-250000)*5/100)+((y-500000)*10/100)+((y-750000)*20/100)\n",
        "   print(tax)\n",
        "if y>=1250000 and y<=1500000:\n",
        "   tax=((y-250000)*5/100)+((y-500000)*10/100)+((y-750000)*20/100)+((y-1250000)*25/100)\n",
        "   print(tax)\n",
        "if y>=1500000:\n",
        "   tax=((y-250000)*5/100)+((y-500000)*10/100)+((y-750000)*20/100)+((y-1250000)*25/100)+((y-1500000)*30/100)\n",
        "   print(tax)   "
      ],
      "metadata": {
        "colab": {
          "base_uri": "https://localhost:8080/"
        },
        "id": "Aj8wzKvFRIL6",
        "outputId": "d4fed672-3b36-4d65-a1aa-a80fc16923e7"
      },
      "execution_count": null,
      "outputs": [
        {
          "output_type": "stream",
          "name": "stdout",
          "text": [
            "600000.0\n"
          ]
        }
      ]
    },
    {
      "cell_type": "code",
      "source": [
        "x=int(input(\"enter the hra \"))\n",
        "y=int(input(\"enter the actual rent\"))\n",
        "z=int(input(\"enter the basic salary\"))"
      ],
      "metadata": {
        "colab": {
          "base_uri": "https://localhost:8080/"
        },
        "id": "hKyiDhErdAd8",
        "outputId": "06bd9880-0f47-495a-e958-d17e5c05f1d4"
      },
      "execution_count": 1,
      "outputs": [
        {
          "name": "stdout",
          "output_type": "stream",
          "text": [
            "enter the hra 100000\n",
            "enter the actual rent120000\n",
            "enter the basic salary300000\n"
          ]
        }
      ]
    },
    {
      "cell_type": "code",
      "source": [
        "hra1= x*12\n",
        "hra2=(y*12)-((z*12)*10/100)\n",
        "hra3=(z*12)*50/100\n",
        "if hra1<hra2 and hra1<hra3:\n",
        "   print(hra1)\n",
        "if hra2<hra3 and hra2<hra1:\n",
        "   print(hra2)\n",
        "if hra3<hra2 and hra3<hra1:\n",
        "   print(hra3)"
      ],
      "metadata": {
        "id": "dE3Oh_MHRJGv",
        "colab": {
          "base_uri": "https://localhost:8080/"
        },
        "outputId": "b7445d79-5e5d-46f1-85d6-f1b3cabce165"
      },
      "execution_count": 2,
      "outputs": [
        {
          "output_type": "stream",
          "name": "stdout",
          "text": [
            "1080000.0\n"
          ]
        }
      ]
    },
    {
      "cell_type": "code",
      "source": [
        "a=[hra1,hra2,hra3]\n",
        "d=min(a)\n",
        "print(d)\n"
      ],
      "metadata": {
        "colab": {
          "base_uri": "https://localhost:8080/"
        },
        "id": "WUl_BGE-dlw4",
        "outputId": "929846bd-6a8b-4f8f-dcc7-5f5ba2260957"
      },
      "execution_count": 3,
      "outputs": [
        {
          "output_type": "stream",
          "name": "stdout",
          "text": [
            "1080000.0\n"
          ]
        }
      ]
    },
    {
      "cell_type": "code",
      "source": [
        "y1=z+x-50000\n",
        "print(y1)"
      ],
      "metadata": {
        "colab": {
          "base_uri": "https://localhost:8080/"
        },
        "id": "068EpFOReS30",
        "outputId": "37dc2938-8656-4542-c886-b319213b1093"
      },
      "execution_count": 11,
      "outputs": [
        {
          "output_type": "stream",
          "name": "stdout",
          "text": [
            "350000\n"
          ]
        }
      ]
    },
    {
      "cell_type": "code",
      "source": [
        "if y1<=250000:\n",
        "   print(\"tax is zero\")\n",
        "if y1>=250000 and y1<=500000:\n",
        "   tax=((y1-250000)*5/100)\n",
        "   print(tax)\n",
        "if y1>=500000 and y1<=750000:\n",
        "   tax=((y1-250000)*5/100)+((y1-500000)*10/100)\n",
        "   print(tax)\n",
        "if y1>=750000 and y1<=1000000:\n",
        "   tax=((y1-250000)*5/100)+((y1-500000)*10/100)+((y1-750000)*20/100)\n",
        "   print(tax)\n",
        "if y1>=1250000 and y1<=1500000:\n",
        "   tax=((y1-250000)*5/100)+((y1-500000)*10/100)+((y1-750000)*20/100)+((y1-1250000)*25/100)\n",
        "   print(tax)\n",
        "if y1>=1500000:\n",
        "   tax=((y1-250000)*5/100)+((y1-500000)*10/100)+((y1-750000)*20/100)+((y1-1250000)*25/100)+((y1-1500000)*30/100)\n",
        "   print(tax)   "
      ],
      "metadata": {
        "colab": {
          "base_uri": "https://localhost:8080/"
        },
        "id": "dr559-dfefPs",
        "outputId": "eb9ce002-895a-4a69-d19f-d64083beef8d"
      },
      "execution_count": 12,
      "outputs": [
        {
          "output_type": "stream",
          "name": "stdout",
          "text": [
            "5000.0\n"
          ]
        }
      ]
    }
  ]
}